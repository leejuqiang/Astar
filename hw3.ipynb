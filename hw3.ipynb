{
 "cells": [
  {
   "cell_type": "code",
   "execution_count": 14,
   "metadata": {},
   "outputs": [
    {
     "name": "stdout",
     "output_type": "stream",
     "text": [
      "The rpy2.ipython extension is already loaded. To reload it, use:\n",
      "  %reload_ext rpy2.ipython\n"
     ]
    },
    {
     "data": {
      "text/plain": [
       "array(['ggplot2', 'tools', 'stats', 'graphics', 'grDevices', 'utils',\n",
       "       'datasets', 'methods', 'base'], dtype='<U9')"
      ]
     },
     "execution_count": 14,
     "metadata": {},
     "output_type": "execute_result"
    }
   ],
   "source": [
    "import os\n",
    "import numpy as np\n",
    "import pandas as pd\n",
    "import matplotlib.pyplot as plt\n",
    "import seaborn as sns\n",
    "from sklearn.linear_model import LinearRegression\n",
    "from sklearn.linear_model import LogisticRegression\n",
    "from sklearn.linear_model import Ridge, RidgeCV, Lasso, LassoCV\n",
    "from sklearn.preprocessing import scale\n",
    "%matplotlib inline\n",
    "%load_ext rpy2.ipython\n",
    "%R library(ggplot2)"
   ]
  },
  {
   "cell_type": "code",
   "execution_count": 3,
   "metadata": {},
   "outputs": [
    {
     "name": "stdout",
     "output_type": "stream",
     "text": [
      "   ID  CustomerAgeinmonths  Churn1Yes0No  CHIScoreMonth0  CHIScore01  \\\n",
      "0   1                 67.0           0.0             0.0         0.0   \n",
      "1   2                 67.0           0.0            62.0         4.0   \n",
      "2   3                 55.0           0.0             0.0         0.0   \n",
      "3   4                 63.0           0.0           231.0         1.0   \n",
      "4   5                 57.0           0.0            43.0         1.0   \n",
      "\n",
      "   SupportCasesMonth0  SupportCases01  SPMonth0  SP01  Logins01  \\\n",
      "0                 0.0             0.0       0.0   0.0       0.0   \n",
      "1                 0.0             0.0       0.0   0.0       0.0   \n",
      "2                 0.0             0.0       0.0   0.0       0.0   \n",
      "3                 1.0             1.0       3.0   0.0     167.0   \n",
      "4                 0.0             0.0       0.0   0.0       0.0   \n",
      "\n",
      "   BlogArticles01  Views01  DaysSinceLastLogin01  \n",
      "0             0.0      0.0                  31.0  \n",
      "1             0.0     16.0                  31.0  \n",
      "2             0.0      0.0                  31.0  \n",
      "3             8.0  21996.0                   0.0  \n",
      "4             0.0      9.0                  31.0  \n"
     ]
    },
    {
     "data": {
      "text/plain": [
       "(6347, 13)"
      ]
     },
     "execution_count": 3,
     "metadata": {},
     "output_type": "execute_result"
    }
   ],
   "source": [
    "path = os.path.join(\"data\", \"caseStudyCleaned.csv\")\n",
    "df = pd.read_csv(path)\n",
    "print(df.head())\n",
    "df.shape"
   ]
  },
  {
   "cell_type": "markdown",
   "metadata": {},
   "source": [
    "1. Is Wall’s belief about the dependence of churn rates on customer age supported by the data? To get some intuition, try visualizing this dependence (Hint: no need to run any statistical tests)."
   ]
  },
  {
   "cell_type": "code",
   "execution_count": 4,
   "metadata": {
    "scrolled": true
   },
   "outputs": [
    {
     "data": {
      "text/plain": [
       "<matplotlib.legend.Legend at 0x1260a8d68>"
      ]
     },
     "execution_count": 4,
     "metadata": {},
     "output_type": "execute_result"
    },
    {
     "data": {
      "image/png": "[encoded data removed]",
      "text/plain": [
       "<Figure size 432x288 with 1 Axes>"
      ]
     },
     "metadata": {
      "needs_background": "light"
     },
     "output_type": "display_data"
    }
   ],
   "source": [
    "dp = sns.distplot((df.loc[df[\"Churn1Yes0No\"] == 1])[\"CustomerAgeinmonths\"], label=\"Churn = 1\")\n",
    "dp = sns.distplot((df.loc[df[\"Churn1Yes0No\"] == 0])[\"CustomerAgeinmonths\"], label=\"Churn = 0\")\n",
    "dp.set(xlabel='CustomerAgeinmonths', ylabel='Percentage')\n",
    "dp.legend()"
   ]
  },
  {
   "cell_type": "markdown",
   "metadata": {},
   "source": [
    "The dependence of churn rates on customer age is not supported from the plot. \n",
    "From the observation above, we can clearly see that the 2 histograms overlap a lot, especially at the right tail part."
   ]
  },
  {
   "cell_type": "markdown",
   "metadata": {},
   "source": [
    "2. To start, run a single regression model that best predicts the probability that a customer leaves."
   ]
  },
  {
   "cell_type": "code",
   "execution_count": 5,
   "metadata": {},
   "outputs": [],
   "source": [
    "# def findBest():\n",
    "#     y = np.array([df[\"Churn1Yes0No\"]]).T\n",
    "#     col = []\n",
    "#     for c in col:\n",
    "#         if c == \"Churn1Yes0No\":\n",
    "# lr = LogisticRegression(solver = 'lbfgs').fit(np.array([df[\"CustomerAgeinmonths\"]]).T, )\n",
    "# lr.coef_"
   ]
  },
  {
   "cell_type": "code",
   "execution_count": 26,
   "metadata": {},
   "outputs": [
    {
     "name": "stdout",
     "output_type": "stream",
     "text": [
      "             alpha  beta  beta_val\n",
      "0     5.000000e+09   b_1      -0.0\n",
      "1     5.000000e+09   b_2       0.0\n",
      "2     5.000000e+09   b_3      -0.0\n",
      "3     5.000000e+09   b_4      -0.0\n",
      "4     5.000000e+09   b_5      -0.0\n",
      "5     5.000000e+09   b_6      -0.0\n",
      "6     5.000000e+09   b_7      -0.0\n",
      "7     5.000000e+09   b_8      -0.0\n",
      "8     5.000000e+09   b_9      -0.0\n",
      "9     5.000000e+09  b_10      -0.0\n",
      "10    5.000000e+09  b_11       0.0\n",
      "11    5.000000e+09  b_12       0.0\n",
      "12    3.782317e+09   b_1      -0.0\n",
      "13    3.782317e+09   b_2       0.0\n",
      "14    3.782317e+09   b_3      -0.0\n",
      "15    3.782317e+09   b_4      -0.0\n",
      "16    3.782317e+09   b_5      -0.0\n",
      "17    3.782317e+09   b_6      -0.0\n",
      "18    3.782317e+09   b_7      -0.0\n",
      "19    3.782317e+09   b_8      -0.0\n",
      "20    3.782317e+09   b_9      -0.0\n",
      "21    3.782317e+09  b_10      -0.0\n",
      "22    3.782317e+09  b_11       0.0\n",
      "23    3.782317e+09  b_12       0.0\n",
      "24    2.861184e+09   b_1      -0.0\n",
      "25    2.861184e+09   b_2       0.0\n",
      "26    2.861184e+09   b_3      -0.0\n",
      "27    2.861184e+09   b_4      -0.0\n",
      "28    2.861184e+09   b_5      -0.0\n",
      "29    2.861184e+09   b_6      -0.0\n",
      "...            ...   ...       ...\n",
      "1170  8.737642e-03   b_7      -0.0\n",
      "1171  8.737642e-03   b_8      -0.0\n",
      "1172  8.737642e-03   b_9      -0.0\n",
      "1173  8.737642e-03  b_10      -0.0\n",
      "1174  8.737642e-03  b_11       0.0\n",
      "1175  8.737642e-03  b_12       0.0\n",
      "1176  6.609706e-03   b_1      -0.0\n",
      "1177  6.609706e-03   b_2       0.0\n",
      "1178  6.609706e-03   b_3      -0.0\n",
      "1179  6.609706e-03   b_4      -0.0\n",
      "1180  6.609706e-03   b_5      -0.0\n",
      "1181  6.609706e-03   b_6      -0.0\n",
      "1182  6.609706e-03   b_7      -0.0\n",
      "1183  6.609706e-03   b_8      -0.0\n",
      "1184  6.609706e-03   b_9      -0.0\n",
      "1185  6.609706e-03  b_10      -0.0\n",
      "1186  6.609706e-03  b_11       0.0\n",
      "1187  6.609706e-03  b_12       0.0\n",
      "1188  5.000000e-03   b_1      -0.0\n",
      "1189  5.000000e-03   b_2       0.0\n",
      "1190  5.000000e-03   b_3      -0.0\n",
      "1191  5.000000e-03   b_4      -0.0\n",
      "1192  5.000000e-03   b_5      -0.0\n",
      "1193  5.000000e-03   b_6      -0.0\n",
      "1194  5.000000e-03   b_7      -0.0\n",
      "1195  5.000000e-03   b_8      -0.0\n",
      "1196  5.000000e-03   b_9      -0.0\n",
      "1197  5.000000e-03  b_10      -0.0\n",
      "1198  5.000000e-03  b_11       0.0\n",
      "1199  5.000000e-03  b_12       0.0\n",
      "\n",
      "[1200 rows x 3 columns]\n"
     ]
    }
   ],
   "source": [
    "lasso = Lasso(max_iter = 10000, normalize = True)\n",
    "coefs = []\n",
    "alphas = 10**np.linspace(10, -2, 100)*0.5\n",
    "\n",
    "trainDf = df.loc[:, df.columns != \"Churn1Yes0No\"]\n",
    "for a in alphas:\n",
    "    lasso.set_params(alpha=a)\n",
    "    lasso.fit(trainDf, df[\"Churn1Yes0No\"])\n",
    "\n",
    "    for i in range(trainDf.shape[1]):\n",
    "        coefs.append([a, \"b_\" + str(i + 1), lasso.coef_[i]])\n",
    "\n",
    "myCoefs = pd.DataFrame(coefs, columns=['alpha', 'beta', 'beta_val'])\n",
    "print(myCoefs)"
   ]
  },
  {
   "cell_type": "code",
   "execution_count": 11,
   "metadata": {},
   "outputs": [],
   "source": [
    "%R -i myCoefs"
   ]
  },
  {
   "cell_type": "code",
   "execution_count": 25,
   "metadata": {},
   "outputs": [
    {
     "data": {
      "image/png": "[encoded data removed]"
     },
     "metadata": {},
     "output_type": "display_data"
    }
   ],
   "source": [
    "%%R -r 100\n",
    "\n",
    "ggplot() +\n",
    "    geom_line(aes(x = alpha, y = beta_val, color = beta), data = myCoefs) + \n",
    "    theme_minimal() +\n",
    "    scale_x_continuous(trans='log10') + \n",
    "    theme(axis.text = element_text(color = \"grey20\", size = 14),\n",
    "            axis.title = element_text(color = \"grey20\", size = 20)) + \n",
    "    xlab('\\nAlpha') + \n",
    "    ylab('Beta Coefficient Values\\n') +\n",
    "    guides(colour = F)"
   ]
  },
  {
   "cell_type": "markdown",
   "metadata": {},
   "source": [
    "    a. What is the predicted probability that Customer 672 will leave between December 2011 and February 2012? Is that high or low? Did that customer actually leave?"
   ]
  },
  {
   "cell_type": "code",
   "execution_count": 9,
   "metadata": {},
   "outputs": [
    {
     "name": "stdout",
     "output_type": "stream",
     "text": [
      "      ID  CustomerAgeinmonths  Churn1Yes0No  CHIScoreMonth0  CHIScore01  \\\n",
      "671  672                 16.0           0.0           148.0         1.0   \n",
      "\n",
      "     SupportCasesMonth0  SupportCases01  SPMonth0  SP01  Logins01  \\\n",
      "671                 0.0             0.0       0.0   0.0      17.0   \n",
      "\n",
      "     BlogArticles01  Views01  DaysSinceLastLogin01  \n",
      "671             1.0     85.0                   2.0  \n"
     ]
    }
   ],
   "source": [
    "cus = df.iloc[671:672][:]\n",
    "print(cus)"
   ]
  },
  {
   "cell_type": "markdown",
   "metadata": {},
   "source": [
    "    b. What about Customers 354 and 5,203?"
   ]
  },
  {
   "cell_type": "code",
   "execution_count": 10,
   "metadata": {},
   "outputs": [
    {
     "name": "stdout",
     "output_type": "stream",
     "text": [
      "      ID  CustomerAgeinmonths  Churn1Yes0No  CHIScoreMonth0  CHIScore01  \\\n",
      "353  354                 13.0           0.0           139.0        29.0   \n",
      "\n",
      "     SupportCasesMonth0  SupportCases01  SPMonth0  SP01  Logins01  \\\n",
      "353                 0.0             0.0       0.0   0.0       4.0   \n",
      "\n",
      "     BlogArticles01  Views01  DaysSinceLastLogin01  \n",
      "353             1.0    244.0                   1.0  \n",
      "        ID  CustomerAgeinmonths  Churn1Yes0No  CHIScoreMonth0  CHIScore01  \\\n",
      "5202  5203                  4.0           0.0            37.0        32.0   \n",
      "\n",
      "      SupportCasesMonth0  SupportCases01  SPMonth0  SP01  Logins01  \\\n",
      "5202                 1.0             1.0       0.0   0.0       0.0   \n",
      "\n",
      "      BlogArticles01  Views01  DaysSinceLastLogin01  \n",
      "5202             0.0      1.0                   5.0  \n"
     ]
    }
   ],
   "source": [
    "cus = df.iloc[353:354][:]\n",
    "print(cus)\n",
    "cus = df.iloc[5202:5203][:]\n",
    "print(cus)"
   ]
  },
  {
   "cell_type": "markdown",
   "metadata": {},
   "source": [
    "3. How sensible is the approach with a single model? Can you suggest a better approach?"
   ]
  },
  {
   "cell_type": "markdown",
   "metadata": {},
   "source": [
    "    a. Provide updated estimates of probabilities that Customers 672, 354, and 5,203 will leave."
   ]
  },
  {
   "cell_type": "markdown",
   "metadata": {},
   "source": [
    "    b. What factors contribute the most to the predicted probabilities that these customers will leave?"
   ]
  },
  {
   "cell_type": "markdown",
   "metadata": {},
   "source": [
    "4. Answer Wall’s “ultimate question”: provide the list of 100 customers with highest churn\n",
    "probabilities and the top three drivers of churn for each customer."
   ]
  },
  {
   "cell_type": "raw",
   "metadata": {},
   "source": []
  }
 ],
 "metadata": {
  "kernelspec": {
   "display_name": "Python 3",
   "language": "python",
   "name": "python3"
  }
 },
 "nbformat": 4,
 "nbformat_minor": 2
}
