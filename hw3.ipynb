{
 "cells": [
  {
   "cell_type": "code",
   "execution_count": 1,
   "metadata": {},
   "outputs": [],
   "source": [
    "import os\n",
    "import numpy as np\n",
    "import pandas as pd\n",
    "import matplotlib.pyplot as plt\n",
    "import seaborn as sns\n",
    "from sklearn.linear_model import LinearRegression\n",
    "from sklearn.metrics import mean_squared_error\n",
    "from sklearn.linear_model import LogisticRegression\n",
    "from sklearn.linear_model import SGDClassifier\n",
    "import statsmodels.formula.api as sf\n",
    "%matplotlib inline\n"
   ]
  },
  {
   "cell_type": "code",
   "execution_count": 2,
   "metadata": {},
   "outputs": [
    {
     "name": "stdout",
     "output_type": "stream",
     "text": [
      "   ID  CustomerAgeinmonths  Churn1Yes0No  CHIScoreMonth0  CHIScore01  \\\n",
      "0   1                 67.0           0.0             0.0         0.0   \n",
      "1   2                 67.0           0.0            62.0         4.0   \n",
      "2   3                 55.0           0.0             0.0         0.0   \n",
      "3   4                 63.0           0.0           231.0         1.0   \n",
      "4   5                 57.0           0.0            43.0         1.0   \n",
      "\n",
      "   SupportCasesMonth0  SupportCases01  SPMonth0  SP01  Logins01  \\\n",
      "0                 0.0             0.0       0.0   0.0       0.0   \n",
      "1                 0.0             0.0       0.0   0.0       0.0   \n",
      "2                 0.0             0.0       0.0   0.0       0.0   \n",
      "3                 1.0             1.0       3.0   0.0     167.0   \n",
      "4                 0.0             0.0       0.0   0.0       0.0   \n",
      "\n",
      "   BlogArticles01  Views01  DaysSinceLastLogin01  \n",
      "0             0.0      0.0                  31.0  \n",
      "1             0.0     16.0                  31.0  \n",
      "2             0.0      0.0                  31.0  \n",
      "3             8.0  21996.0                   0.0  \n",
      "4             0.0      9.0                  31.0  \n"
     ]
    },
    {
     "data": {
      "text/plain": [
       "(6347, 13)"
      ]
     },
     "execution_count": 2,
     "metadata": {},
     "output_type": "execute_result"
    }
   ],
   "source": [
    "path = os.path.join(\"data\", \"caseStudyCleaned.csv\")\n",
    "df = pd.read_csv(path)\n",
    "print(df.head())\n",
    "df.shape"
   ]
  },
  {
   "cell_type": "markdown",
   "metadata": {},
   "source": [
    "1. Is Wall’s belief about the dependence of churn rates on customer age supported by the data? To get some intuition, try visualizing this dependence (Hint: no need to run any statistical tests)."
   ]
  },
  {
   "cell_type": "code",
   "execution_count": 3,
   "metadata": {
    "scrolled": true
   },
   "outputs": [
    {
     "name": "stdout",
     "output_type": "stream",
     "text": [
      "(6024, 13)\n",
      "(323, 13)\n"
     ]
    },
    {
     "data": {
      "text/plain": [
       "<matplotlib.legend.Legend at 0x103b5a048>"
      ]
     },
     "execution_count": 3,
     "metadata": {},
     "output_type": "execute_result"
    },
    {
     "data": {
      "image/png": "[encoded data removed]",
      "text/plain": [
       "<Figure size 432x288 with 1 Axes>"
      ]
     },
     "metadata": {
      "needs_background": "light"
     },
     "output_type": "display_data"
    }
   ],
   "source": [
    "newDf = df.loc[df[\"Churn1Yes0No\"] == 0]\n",
    "print(newDf.shape)\n",
    "newDf = df.loc[df[\"Churn1Yes0No\"] == 1]\n",
    "print(newDf.shape)\n",
    "dp = sns.distplot((df.loc[df[\"Churn1Yes0No\"] == 1])[\"CustomerAgeinmonths\"], label=\"Churn = 1\")\n",
    "dp = sns.distplot((df.loc[df[\"Churn1Yes0No\"] == 0])[\"CustomerAgeinmonths\"], label=\"Churn = 0\")\n",
    "dp.set(xlabel='CustomerAgeinmonths', ylabel='Percentage')\n",
    "dp.legend()"
   ]
  },
  {
   "cell_type": "markdown",
   "metadata": {},
   "source": [
    "The dependence of churn rates on customer age is not supported from the plot. \n",
    "From the observation above, we can clearly see that the 2 histograms overlap a lot, especially at the right tail part."
   ]
  },
  {
   "cell_type": "markdown",
   "metadata": {},
   "source": [
    "2. To start, run a single regression model that best predicts the probability that a customer leaves."
   ]
  },
  {
   "cell_type": "code",
   "execution_count": 45,
   "metadata": {},
   "outputs": [
    {
     "name": "stdout",
     "output_type": "stream",
     "text": [
      "(323, 13)\n",
      "(6024, 13)\n",
      "score 0.9491098156609422\n",
      "score 0.9491098156609422\n",
      "score 0.9491098156609422\n",
      "score 0.9491098156609422\n",
      "score 0.9491098156609422\n",
      "score 0.9491098156609422\n",
      "score 0.9491098156609422\n",
      "score 0.9491098156609422\n",
      "score 0.9491098156609422\n",
      "score 0.9491098156609422\n",
      "score 0.9483220419095636\n",
      "CustomerAgeinmonths---------- original data\n",
      "score 0.5131142098273572\n",
      "score 0.5815073041168659\n",
      "score 0.4812416998671979\n",
      "score 0.5574369189907038\n",
      "score 0.5561088977423638\n",
      "score 0.5584329349269588\n",
      "score 0.5194223107569721\n",
      "score 0.549800796812749\n",
      "score 0.549136786188579\n",
      "score 0.5283864541832669\n",
      "score 0.6321381142098274\n",
      "DaysSinceLastLogin01---------- cross size data\n",
      "score 0.5123839009287926\n",
      "score 0.5773993808049536\n",
      "score 0.5294117647058824\n",
      "score 0.5294117647058824\n",
      "score 0.5201238390092879\n",
      "score 0.5309597523219814\n",
      "score 0.5\n",
      "score 0.544891640866873\n",
      "score 0.5402476780185759\n",
      "score 0.5170278637770898\n",
      "score 0.6377708978328174\n",
      "DaysSinceLastLogin01---------- down size data\n",
      "score 0.5152722443559097\n",
      "score 0.5798472775564409\n",
      "score 0.4898738379814077\n",
      "score 0.5516268260292164\n",
      "score 0.5496347941567065\n",
      "score 0.5521248339973439\n",
      "score 0.5107071713147411\n",
      "score 0.5486387782204515\n",
      "score 0.545484727755644\n",
      "score 0.48389774236387784\n",
      "score 0.6296480743691899\n",
      "DaysSinceLastLogin01---------- over size data\n"
     ]
    }
   ],
   "source": [
    "yesDf = df.loc[df[\"Churn1Yes0No\"] == 1]\n",
    "noDf = df.loc[df[\"Churn1Yes0No\"] == 0]\n",
    "print(yesDf.shape)\n",
    "print(noDf.shape)\n",
    "\n",
    "yesDf1 = yesDf.sample(int(noDf.shape[0] / 2), replace = True)\n",
    "noDf1 = noDf.sample(int(noDf.shape[0] / 2))\n",
    "crossDf = pd.concat([yesDf1, noDf1], axis = 0)\n",
    "\n",
    "noDf2 = noDf.sample(yesDf.shape[0])\n",
    "downDf = pd.concat([yesDf, noDf2], axis = 0)\n",
    "\n",
    "yesDf2 = yesDf.sample(noDf.shape[0], replace = True)\n",
    "overDf = pd.concat([yesDf2, noDf], axis = 0)\n",
    "\n",
    "def findBest(df):\n",
    "    y = np.array([df[\"Churn1Yes0No\"]]).T\n",
    "    y = y.ravel()\n",
    "    col = df.columns\n",
    "    e = 0\n",
    "    acc = 0\n",
    "    best = \"\"\n",
    "    bestLr = None\n",
    "    bestResult = None\n",
    "    for c in col:\n",
    "        if c == \"Churn1Yes0No\" or c == \"ID\":\n",
    "            continue\n",
    "        x = np.array([df[c]]).T\n",
    "        lr = LogisticRegression(solver = 'lbfgs').fit(x, y)\n",
    "        result = lr.predict_proba(x)\n",
    "        res = []\n",
    "        for r in result:\n",
    "            res.append(r[0])\n",
    "        mse = mean_squared_error(y, res)\n",
    "        s = lr.score(x, y)\n",
    "#         print(\"mse \" + str( mse))\n",
    "        print(\"score \" + str(s))\n",
    "        if s > acc or best == \"\":\n",
    "#             e = mse\n",
    "            acc = s\n",
    "            best = c\n",
    "            bestLr = lr\n",
    "            bestResult = res\n",
    "    return best, bestLr, bestResult\n",
    "\n",
    "originalBestC, originalBestLr, originalResult = findBest(df)\n",
    "print(originalBestC + \"---------- original data\")\n",
    "\n",
    "crossBestC, corssBestLr, originalResult = findBest(crossDf)\n",
    "print(crossBestC + \"---------- cross size data\")\n",
    "\n",
    "downBestC, downBestLr, originalResult = findBest(downDf)\n",
    "print(downBestC + \"---------- down size data\")\n",
    "\n",
    "overBestC, overBestLr, overBestResult = findBest(overDf)\n",
    "print(overBestC + \"---------- over size data\")"
   ]
  },
  {
   "cell_type": "code",
   "execution_count": 5,
   "metadata": {},
   "outputs": [
    {
     "data": {
      "text/plain": [
       "<matplotlib.axes._subplots.AxesSubplot at 0x103354048>"
      ]
     },
     "execution_count": 5,
     "metadata": {},
     "output_type": "execute_result"
    },
    {
     "data": {
      "image/png": "[encoded data removed]",
      "text/plain": [
       "<Figure size 432x288 with 1 Axes>"
      ]
     },
     "metadata": {
      "needs_background": "light"
     },
     "output_type": "display_data"
    }
   ],
   "source": [
    "sns.distplot(overBestResult)"
   ]
  },
  {
   "cell_type": "markdown",
   "metadata": {},
   "source": [
    "We are using the minimum MSE of the probability to decide which one is the \"best prediction\", because low MSE means low error of our predictions. The function findBest will find the minimum MSE variable given a data frame, and return the best column and the logistics regression model.\n",
    "\n",
    "The original dataset is comprised of 6024 entries of **No churn** and 323 entries of **Yes churn**. Because the dataset is very unbalanced , we tried 3 different ways to balance the data.\n",
    "1. Downsampled the **NO** churn set randomly from 6000 to 3000, and over sampled the **Yes** churn set to 3000 from 300. (cross data set)\n",
    "2. Randomly chose about 300 to downsample the **no** churn set, match the original **yes** churn set. (down data set)\n",
    "3. Over sampled the **yes** churn set to about 6000, match the original *no* churn set. (over data set)\n",
    "\n",
    "The best variable for cross data and the down data are not consistent due to random sampling, whereas oversampled data gets the same variable despite the random oversampling. Furthermore, the MSE are similar to each other, so we have decided to use oversampled data. From the oversampled data, the best variable is \"Views01\"."
   ]
  },
  {
   "cell_type": "markdown",
   "metadata": {},
   "source": [
    "    a. What is the predicted probability that Customer 672 will leave between December 2011 and February 2012? Is that high or low? Did that customer actually leave?"
   ]
  },
  {
   "cell_type": "code",
   "execution_count": 64,
   "metadata": {},
   "outputs": [
    {
     "name": "stdout",
     "output_type": "stream",
     "text": [
      "0.4197032399093779\n",
      "0.0\n"
     ]
    }
   ],
   "source": [
    "def testChurn(id, model):\n",
    "    cus = df.iloc[id - 1][:]\n",
    "    x = np.array([cus[overBestC]]).T\n",
    "    x = x.reshape(-1, 1)\n",
    "    print(model.predict_proba(x)[0][1])\n",
    "    print(cus[\"Churn1Yes0No\"])\n",
    "\n",
    "testChurn(672, overBestLr)"
   ]
  },
  {
   "cell_type": "markdown",
   "metadata": {},
   "source": [
    "Probability is 0.50002. It's very close to the borderline, but prediction shows the customer should have left. However the customer didn't not actually leave."
   ]
  },
  {
   "cell_type": "markdown",
   "metadata": {},
   "source": [
    "    b. What about Customers 354 and 5,203?"
   ]
  },
  {
   "cell_type": "code",
   "execution_count": 65,
   "metadata": {},
   "outputs": [
    {
     "name": "stdout",
     "output_type": "stream",
     "text": [
      "0.40992383892962025\n",
      "0.0\n"
     ]
    }
   ],
   "source": [
    "testChurn(354, overBestLr)"
   ]
  },
  {
   "cell_type": "code",
   "execution_count": 66,
   "metadata": {},
   "outputs": [
    {
     "name": "stdout",
     "output_type": "stream",
     "text": [
      "0.44939232310844185\n",
      "0.0\n"
     ]
    }
   ],
   "source": [
    "testChurn(5203, overBestLr)"
   ]
  },
  {
   "cell_type": "markdown",
   "metadata": {},
   "source": [
    "The probability are both similar to the first customer. They are both slightly above the threshold value and very close to the borderline. They both should have left, but neither of them actually leave."
   ]
  },
  {
   "cell_type": "markdown",
   "metadata": {},
   "source": [
    "3. How sensible is the approach with a single model? Can you suggest a better approach?"
   ]
  },
  {
   "cell_type": "code",
   "execution_count": 9,
   "metadata": {},
   "outputs": [
    {
     "name": "stdout",
     "output_type": "stream",
     "text": [
      "0.49999999963430364\n",
      "0.8338291304730353\n"
     ]
    }
   ],
   "source": [
    "results = []\n",
    "for i in range(df.shape[0]):\n",
    "    d = df.iloc[i][:]\n",
    "    x = np.array([d[overBestC]]).T\n",
    "    x = x.reshape(-1, 1)\n",
    "    results.append(overBestLr.predict_proba(x)[0][0])\n",
    "print(np.min(results))\n",
    "print(np.max(results))"
   ]
  },
  {
   "cell_type": "markdown",
   "metadata": {},
   "source": [
    "It's not sensible. We print the minimum and the maximum of all predictions. We can tell that all the predictions are very close to 0.5, which is the threshold.\n",
    "A better approach should be multiple logistic regression."
   ]
  },
  {
   "cell_type": "markdown",
   "metadata": {},
   "source": [
    "    a. Provide updated estimates of probabilities that Customers 672, 354, and 5,203 will leave."
   ]
  },
  {
   "cell_type": "code",
   "execution_count": 58,
   "metadata": {},
   "outputs": [
    {
     "name": "stdout",
     "output_type": "stream",
     "text": [
      "0.6679116865869854\n",
      "('CHIScoreMonth0', 'SupportCases01', 'SPMonth0', 'SP01', 'Logins01', 'Views01', 'DaysSinceLastLogin01')\n"
     ]
    }
   ],
   "source": [
    "import itertools\n",
    "import warnings\n",
    "warnings.filterwarnings(\"ignore\")\n",
    "columns = overDf.columns\n",
    "\n",
    "x_columns = columns.drop([\"ID\", \"Churn1Yes0No\"])\n",
    "allSubset = []\n",
    "for i in range(len(x_columns)):\n",
    "    s = set(itertools.combinations(x_columns, i + 1))\n",
    "    for subS in s:\n",
    "        allSubset.append(subS)\n",
    "    \n",
    "def stepBackward(df, allSets):\n",
    "    y = df[\"Churn1Yes0No\"]\n",
    "    mses = []\n",
    "    scores = []\n",
    "    subSets = []\n",
    "    for s in allSets:\n",
    "        x = df[list(s)]\n",
    "        lr = LogisticRegression(solver = 'lbfgs').fit(x, y)\n",
    "#         result = lr.predict_proba(x)\n",
    "#         mses.append(mean_squared_error(y, result[:, 0]))\n",
    "        scores.append(lr.score(x, y))\n",
    "        subSets.append(s)\n",
    "    maxS = max(scores)\n",
    "    index = scores.index(maxS)\n",
    "    print(maxS)\n",
    "    print(subSets[index])\n",
    "\n",
    "# stepBackward(overDf, allSubset)"
   ]
  },
  {
   "cell_type": "code",
   "execution_count": 59,
   "metadata": {},
   "outputs": [],
   "source": [
    "columns = ['CHIScoreMonth0', 'SupportCases01', 'SPMonth0', 'SP01', 'Logins01', 'Views01', 'DaysSinceLastLogin01']\n",
    "x = df[columns]\n",
    "y = df[\"Churn1Yes0No\"]\n",
    "improvedLr = LogisticRegression(solver = 'lbfgs').fit(x, y)"
   ]
  },
  {
   "cell_type": "code",
   "execution_count": 67,
   "metadata": {},
   "outputs": [
    {
     "name": "stdout",
     "output_type": "stream",
     "text": [
      "0.046263151390229795\n",
      "0.04818726274411093\n",
      "0.08340176943410722\n"
     ]
    }
   ],
   "source": [
    "probs = improvedLr.predict_proba(x)\n",
    "print(probs[671][1])\n",
    "print(probs[353][1])\n",
    "print(probs[5202][1])"
   ]
  },
  {
   "cell_type": "markdown",
   "metadata": {},
   "source": [
    "    b. What factors contribute the most to the predicted probabilities that these customers will leave?"
   ]
  },
  {
   "cell_type": "markdown",
   "metadata": {},
   "source": [
    "4. Answer Wall’s “ultimate question”: provide the list of 100 customers with highest churn\n",
    "probabilities and the top three drivers of churn for each customer."
   ]
  },
  {
   "cell_type": "raw",
   "metadata": {},
   "source": []
  }
 ],
 "metadata": {
  "kernelspec": {
   "display_name": "Python 3",
   "language": "python",
   "name": "python3"
  },
  "language_info": {
   "codemirror_mode": {
    "name": "ipython",
    "version": 3
   },
   "file_extension": ".py",
   "mimetype": "text/x-python",
   "name": "python",
   "nbconvert_exporter": "python",
   "pygments_lexer": "ipython3",
   "version": "3.7.2"
  }
 },
 "nbformat": 4,
 "nbformat_minor": 2
}
