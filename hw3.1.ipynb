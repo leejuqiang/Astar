{
 "cells": [
  {
   "cell_type": "code",
   "execution_count": 18,
   "metadata": {},
   "outputs": [],
   "source": [
    "import os\n",
    "import numpy as np\n",
    "import pandas as pd\n",
    "import matplotlib.pyplot as plt\n",
    "import seaborn as sns\n",
    "from sklearn.linear_model import LinearRegression\n",
    "from sklearn import metrics\n",
    "from sklearn.metrics import mean_squared_error\n",
    "from sklearn.linear_model import LogisticRegression\n",
    "from sklearn.linear_model import SGDClassifier\n",
    "import statsmodels.formula.api as sf\n",
    "import warnings\n",
    "warnings.filterwarnings(\"ignore\")\n",
    "%matplotlib inline\n"
   ]
  },
  {
   "cell_type": "code",
   "execution_count": 2,
   "metadata": {},
   "outputs": [
    {
     "name": "stdout",
     "output_type": "stream",
     "text": [
      "   ID  CustomerAgeinmonths  Churn1Yes0No  CHIScoreMonth0  CHIScore01  \\\n",
      "0   1                 67.0           0.0             0.0         0.0   \n",
      "1   2                 67.0           0.0            62.0         4.0   \n",
      "2   3                 55.0           0.0             0.0         0.0   \n",
      "3   4                 63.0           0.0           231.0         1.0   \n",
      "4   5                 57.0           0.0            43.0         1.0   \n",
      "\n",
      "   SupportCasesMonth0  SupportCases01  SPMonth0  SP01  Logins01  \\\n",
      "0                 0.0             0.0       0.0   0.0       0.0   \n",
      "1                 0.0             0.0       0.0   0.0       0.0   \n",
      "2                 0.0             0.0       0.0   0.0       0.0   \n",
      "3                 1.0             1.0       3.0   0.0     167.0   \n",
      "4                 0.0             0.0       0.0   0.0       0.0   \n",
      "\n",
      "   BlogArticles01  Views01  DaysSinceLastLogin01  \n",
      "0             0.0      0.0                  31.0  \n",
      "1             0.0     16.0                  31.0  \n",
      "2             0.0      0.0                  31.0  \n",
      "3             8.0  21996.0                   0.0  \n",
      "4             0.0      9.0                  31.0  \n"
     ]
    },
    {
     "data": {
      "text/plain": [
       "(6347, 13)"
      ]
     },
     "execution_count": 2,
     "metadata": {},
     "output_type": "execute_result"
    }
   ],
   "source": [
    "path = os.path.join(\"data\", \"caseStudyCleaned.csv\")\n",
    "df = pd.read_csv(path)\n",
    "print(df.head())\n",
    "df.shape"
   ]
  },
  {
   "cell_type": "markdown",
   "metadata": {},
   "source": [
    "1. Is Wall’s belief about the dependence of churn rates on customer age supported by the data? To get some intuition, try visualizing this dependence (Hint: no need to run any statistical tests)."
   ]
  },
  {
   "cell_type": "code",
   "execution_count": 3,
   "metadata": {
    "scrolled": true
   },
   "outputs": [
    {
     "name": "stdout",
     "output_type": "stream",
     "text": [
      "(6024, 13)\n",
      "(323, 13)\n"
     ]
    },
    {
     "data": {
      "text/plain": [
       "<matplotlib.legend.Legend at 0x119efab38>"
      ]
     },
     "execution_count": 3,
     "metadata": {},
     "output_type": "execute_result"
    },
    {
     "data": {
      "image/png": "[encoded data removed]",
      "text/plain": [
       "<Figure size 432x288 with 1 Axes>"
      ]
     },
     "metadata": {
      "needs_background": "light"
     },
     "output_type": "display_data"
    }
   ],
   "source": [
    "newDf = df.loc[df[\"Churn1Yes0No\"] == 0]\n",
    "print(newDf.shape)\n",
    "newDf = df.loc[df[\"Churn1Yes0No\"] == 1]\n",
    "print(newDf.shape)\n",
    "dp = sns.distplot((df.loc[df[\"Churn1Yes0No\"] == 1])[\"CustomerAgeinmonths\"], label=\"Churn = 1\")\n",
    "dp = sns.distplot((df.loc[df[\"Churn1Yes0No\"] == 0])[\"CustomerAgeinmonths\"], label=\"Churn = 0\")\n",
    "dp.set(xlabel='CustomerAgeinmonths', ylabel='Percentage')\n",
    "dp.legend()"
   ]
  },
  {
   "cell_type": "markdown",
   "metadata": {},
   "source": [
    "The dependence of churn rates on customer age is not supported from the plot. \n",
    "From the observation above, we can clearly see that the 2 histograms overlap a lot, especially at the right tail part."
   ]
  },
  {
   "cell_type": "markdown",
   "metadata": {},
   "source": [
    "2. To start, run a single regression model that best predicts the probability that a customer leaves."
   ]
  },
  {
   "cell_type": "code",
   "execution_count": 45,
   "metadata": {},
   "outputs": [
    {
     "name": "stdout",
     "output_type": "stream",
     "text": [
      "min loss column: CHIScoreMonth0\n",
      "min loss: 0.19746231419598212\n",
      "score: 0.9491098156609422\n"
     ]
    }
   ],
   "source": [
    "def findBest(df):\n",
    "    y = np.array([df[\"Churn1Yes0No\"]]).T\n",
    "    col = df.columns\n",
    "    col = col.drop([\"Churn1Yes0No\", \"ID\"])\n",
    "    loss = []\n",
    "    models = []\n",
    "    results = []\n",
    "    scores = []\n",
    "    for c in col:\n",
    "        x = np.array([df[c]]).T\n",
    "        x = x.reshape(-1, 1)\n",
    "        lr = LogisticRegression(solver = 'lbfgs').fit(x, y)\n",
    "        models.append(lr)\n",
    "        result = lr.predict_proba(x)\n",
    "        s = lr.score(x, y)\n",
    "        scores.append(s)\n",
    "        results.append(result)\n",
    "        e = metrics.log_loss(y, result)\n",
    "        loss.append(e)\n",
    "    minLoss = min(loss)\n",
    "    index = loss.index(minLoss)\n",
    "    print(\"min loss column: \" + col[index])\n",
    "    print(\"min loss: \" + str(loss[index]))\n",
    "    print(\"score: \" + str(scores[index]))\n",
    "    return models[index], results[index]\n",
    "    \n",
    "bestLr, bestProb = findBest(df)"
   ]
  },
  {
   "cell_type": "markdown",
   "metadata": {},
   "source": [
    "We are using the minimum loss of the model to decide which one is the \"best prediction\", because low loss means low error of our predictions. The function findBest will find the minimum loss variable given a data frame, and return the best model and the predicted probabilities.\n",
    "We can see CHIScoreMonth0 is the best predictor."
   ]
  },
  {
   "cell_type": "markdown",
   "metadata": {},
   "source": [
    "    a. What is the predicted probability that Customer 672 will leave between December 2011 and February 2012? Is that high or low? Did that customer actually leave?"
   ]
  },
  {
   "cell_type": "code",
   "execution_count": 30,
   "metadata": {},
   "outputs": [
    {
     "name": "stdout",
     "output_type": "stream",
     "text": [
      "0.03320296775110835\n",
      "0.0\n"
     ]
    }
   ],
   "source": [
    "def testChurn(id, result):\n",
    "    id -= 1\n",
    "    cus = df.iloc[id][:]\n",
    "    print(result[id][1])\n",
    "    print(cus[\"Churn1Yes0No\"])\n",
    "\n",
    "testChurn(672, bestProb)"
   ]
  },
  {
   "cell_type": "markdown",
   "metadata": {},
   "source": [
    "Probability is 0.033. It's small, and the customer didn't not actually leave."
   ]
  },
  {
   "cell_type": "markdown",
   "metadata": {},
   "source": [
    "    b. What about Customers 354 and 5,203?"
   ]
  },
  {
   "cell_type": "code",
   "execution_count": 32,
   "metadata": {},
   "outputs": [
    {
     "name": "stdout",
     "output_type": "stream",
     "text": [
      "0.03502742009007797\n",
      "0.0\n"
     ]
    }
   ],
   "source": [
    "testChurn(354, bestProb)"
   ]
  },
  {
   "cell_type": "code",
   "execution_count": 31,
   "metadata": {},
   "outputs": [
    {
     "name": "stdout",
     "output_type": "stream",
     "text": [
      "0.06366613937623121\n",
      "0.0\n"
     ]
    }
   ],
   "source": [
    "testChurn(5203, bestProb)"
   ]
  },
  {
   "cell_type": "markdown",
   "metadata": {},
   "source": [
    "3. How sensible is the approach with a single model? Can you suggest a better approach?"
   ]
  },
  {
   "cell_type": "code",
   "execution_count": 72,
   "metadata": {},
   "outputs": [
    {
     "data": {
      "text/plain": [
       "0.60673148479354"
      ]
     },
     "execution_count": 72,
     "metadata": {},
     "output_type": "execute_result"
    }
   ],
   "source": [
    "fpr, tpr, thresholds = metrics.roc_curve(df[\"Churn1Yes0No\"], bestProb[:, 1], pos_label=1)\n",
    "metrics.auc(fpr, tpr)"
   ]
  },
  {
   "cell_type": "markdown",
   "metadata": {},
   "source": [
    "It's sensible. Because the auc is above 0.5, so it's not a random guessing. But it's not very high, so it's not very good.\n",
    "A better approach should be multiple logistic regression."
   ]
  },
  {
   "cell_type": "markdown",
   "metadata": {},
   "source": [
    "    a. Provide updated estimates of probabilities that Customers 672, 354, and 5,203 will leave."
   ]
  },
  {
   "cell_type": "code",
   "execution_count": 39,
   "metadata": {},
   "outputs": [
    {
     "name": "stdout",
     "output_type": "stream",
     "text": [
      "0.1936794274987956\n",
      "('CustomerAgeinmonths', 'CHIScoreMonth0', 'CHIScore01', 'SupportCasesMonth0', 'SupportCases01', 'SPMonth0', 'SP01', 'BlogArticles01', 'DaysSinceLastLogin01')\n"
     ]
    }
   ],
   "source": [
    "import itertools\n",
    "\n",
    "columns = df.columns\n",
    "\n",
    "x_columns = columns.drop([\"ID\", \"Churn1Yes0No\"])\n",
    "allSubset = []\n",
    "for i in range(len(x_columns)):\n",
    "    s = set(itertools.combinations(x_columns, i + 1))\n",
    "    for subS in s:\n",
    "        allSubset.append(subS)\n",
    "    \n",
    "def bestInAll(df, allSets):\n",
    "    y = df[\"Churn1Yes0No\"]\n",
    "    loss = []\n",
    "    subSets = []\n",
    "    for s in allSets:\n",
    "        x = df[list(s)]\n",
    "        lr = LogisticRegression(solver = 'lbfgs').fit(x, y)\n",
    "        result = lr.predict_proba(x)\n",
    "        e = metrics.log_loss(y, result)\n",
    "        loss.append(e) \n",
    "        subSets.append(s)\n",
    "    minLoss = min(loss)\n",
    "    index = loss.index(minLoss)\n",
    "    print(minLoss)\n",
    "    print(subSets[index])\n",
    "\n",
    "# bestInAll(df, allSubset)"
   ]
  },
  {
   "cell_type": "code",
   "execution_count": 41,
   "metadata": {},
   "outputs": [],
   "source": [
    "columns = ['CustomerAgeinmonths', 'CHIScoreMonth0', 'CHIScore01', 'SupportCasesMonth0', 'SupportCases01', 'SPMonth0', 'SP01', 'BlogArticles01', 'DaysSinceLastLogin01']\n",
    "x = df[columns]\n",
    "y = df[\"Churn1Yes0No\"]\n",
    "improvedLr = LogisticRegression(solver = 'lbfgs').fit(x, y)"
   ]
  },
  {
   "cell_type": "code",
   "execution_count": 47,
   "metadata": {},
   "outputs": [
    {
     "name": "stdout",
     "output_type": "stream",
     "text": [
      "0.030951367341322665\n",
      "0.0\n",
      "0.03382167997558077\n",
      "0.0\n",
      "0.05348742330420229\n",
      "0.0\n"
     ]
    }
   ],
   "source": [
    "probs = improvedLr.predict_proba(x)\n",
    "testChurn(672, probs)\n",
    "testChurn(354, probs)\n",
    "testChurn(5203, probs)"
   ]
  },
  {
   "cell_type": "markdown",
   "metadata": {},
   "source": [
    "    b. What factors contribute the most to the predicted probabilities that these customers will leave?"
   ]
  },
  {
   "cell_type": "code",
   "execution_count": 67,
   "metadata": {},
   "outputs": [
    {
     "name": "stdout",
     "output_type": "stream",
     "text": [
      "CustomerAgeinmonths     0.172276\n",
      "CHIScoreMonth0         -0.400274\n",
      "CHIScore01              0.082664\n",
      "SupportCasesMonth0      0.047424\n",
      "SupportCases01         -0.149964\n",
      "SPMonth0               -0.135071\n",
      "SP01                    0.117251\n",
      "BlogArticles01         -0.041664\n",
      "DaysSinceLastLogin01    0.180944\n",
      "dtype: float64\n"
     ]
    }
   ],
   "source": [
    "l = np.std(x, 0) * improvedLr.coef_[0]\n",
    "print(l)"
   ]
  },
  {
   "cell_type": "markdown",
   "metadata": {},
   "source": [
    "4. Answer Wall’s “ultimate question”: provide the list of 100 customers with highest churn\n",
    "probabilities and the top three drivers of churn for each customer."
   ]
  },
  {
   "cell_type": "code",
   "execution_count": 69,
   "metadata": {},
   "outputs": [
    {
     "name": "stdout",
     "output_type": "stream",
     "text": [
      "2699\n",
      "1495\n",
      "132\n",
      "1862\n",
      "2562\n",
      "1889\n",
      "870\n",
      "1521\n",
      "1180\n",
      "1107\n",
      "93\n",
      "51\n",
      "2280\n",
      "191\n",
      "2943\n",
      "109\n",
      "1029\n",
      "3087\n",
      "48\n",
      "165\n",
      "193\n",
      "3256\n",
      "59\n",
      "3026\n",
      "0\n",
      "3580\n",
      "535\n",
      "2010\n",
      "1802\n",
      "2078\n",
      "1770\n",
      "2095\n",
      "13\n",
      "1009\n",
      "2\n",
      "17\n",
      "20\n",
      "1218\n",
      "2747\n",
      "3582\n",
      "1062\n",
      "269\n",
      "3786\n",
      "108\n",
      "1335\n",
      "50\n",
      "3292\n",
      "1198\n",
      "2946\n",
      "2615\n",
      "54\n",
      "58\n",
      "3685\n",
      "60\n",
      "61\n",
      "120\n",
      "94\n",
      "1362\n",
      "1801\n",
      "68\n",
      "136\n",
      "1\n",
      "11\n",
      "1005\n",
      "1315\n",
      "153\n",
      "2834\n",
      "122\n",
      "169\n",
      "118\n",
      "170\n",
      "189\n",
      "862\n",
      "145\n",
      "182\n",
      "41\n",
      "100\n",
      "2991\n",
      "4\n",
      "88\n",
      "75\n",
      "2829\n",
      "2650\n",
      "1458\n",
      "1392\n",
      "3332\n",
      "1391\n",
      "2239\n",
      "1437\n",
      "155\n",
      "67\n",
      "1970\n",
      "1671\n",
      "1140\n",
      "105\n",
      "2243\n",
      "15\n",
      "3694\n",
      "1276\n",
      "2300\n"
     ]
    }
   ],
   "source": [
    "datas = []\n",
    "for i in range(len(probs)):\n",
    "    datas.append([i, probs[i][0]])\n",
    "    \n",
    "def getProb(d):\n",
    "    return d[1]\n",
    "\n",
    "datas.sort(key=getProb)\n",
    "for i in range(100):\n",
    "    print(datas[i][0])"
   ]
  },
  {
   "cell_type": "code",
   "execution_count": null,
   "metadata": {},
   "outputs": [],
   "source": []
  }
 ],
 "metadata": {
  "kernelspec": {
   "display_name": "Python 3",
   "language": "python",
   "name": "python3"
  },
  "language_info": {
   "codemirror_mode": {
    "name": "ipython",
    "version": 3
   },
   "file_extension": ".py",
   "mimetype": "text/x-python",
   "name": "python",
   "nbconvert_exporter": "python",
   "pygments_lexer": "ipython3",
   "version": "3.7.2"
  }
 },
 "nbformat": 4,
 "nbformat_minor": 2
}
